{
 "cells": [
  {
   "cell_type": "code",
   "execution_count": 1,
   "metadata": {},
   "outputs": [
    {
     "name": "stderr",
     "output_type": "stream",
     "text": [
      "/usr/lib/python3.6/importlib/_bootstrap.py:219: RuntimeWarning: numpy.dtype size changed, may indicate binary incompatibility. Expected 96, got 88\n",
      "  return f(*args, **kwds)\n",
      "/usr/lib/python3.6/importlib/_bootstrap.py:219: RuntimeWarning: numpy.dtype size changed, may indicate binary incompatibility. Expected 96, got 88\n",
      "  return f(*args, **kwds)\n"
     ]
    }
   ],
   "source": [
    "import numpy as np\n",
    "import pandas as pd\n",
    "from datetime import datetime\n",
    "import os"
   ]
  },
  {
   "cell_type": "code",
   "execution_count": 2,
   "metadata": {},
   "outputs": [],
   "source": [
    "# Category deduplication\n",
    "REWRITE_CATEGORIES = {\n",
    "    \"Business Day\": \"Business\",\n",
    "    \"NaN\": \"Unknown\",\n",
    "    \"New York and Region\": \"N.Y. / Region\",\n",
    "    \"False\": \"Unknown\"\n",
    "}\n",
    "\n",
    "\n",
    "def _rewrite_category(category):\n",
    "    \"\"\"Standardize the category name by performing a\n",
    "    rewrite if necessary.\n",
    "\n",
    "    Arguments:\n",
    "        category {string} -- the name of the category\n",
    "\n",
    "    Returns:\n",
    "        string -- the standardized category\n",
    "    \"\"\"\n",
    "\n",
    "    if category in REWRITE_CATEGORIES:\n",
    "        return REWRITE_CATEGORIES[category]\n",
    "    return category"
   ]
  },
  {
   "cell_type": "code",
   "execution_count": 3,
   "metadata": {},
   "outputs": [],
   "source": [
    "def _unpack_categories(reported_category):\n",
    "    \"\"\"Utility method to get all the subcategories,\n",
    "    separated by a semicolon.\n",
    "\n",
    "    Arguments:\n",
    "        reported_category {string} -- semicolon-separated supercategory\n",
    "\n",
    "    Returns:\n",
    "        [String] -- array of subcategory strings\n",
    "    \"\"\"\n",
    "\n",
    "    return [_rewrite_category(category.strip()) for category in reported_category.split(\";\")]"
   ]
  },
  {
   "cell_type": "code",
   "execution_count": 4,
   "metadata": {},
   "outputs": [],
   "source": [
    "def _process_row(k):\n",
    "    k['section_name'] = _unpack_categories(str(k['section_name']))\n",
    "    k['pub_date'] = datetime.strptime(k['pub_date'], \"%Y-%m-%d\").date()\n",
    "    return k"
   ]
  },
  {
   "cell_type": "code",
   "execution_count": 5,
   "metadata": {},
   "outputs": [],
   "source": [
    "def load_all_data():\n",
    "    \"\"\"Load all the CSVs in /data into a single\n",
    "    dataframe.\n",
    "\n",
    "    Returns:\n",
    "        dataframe -- all the data\n",
    "    \"\"\"\n",
    "\n",
    "    dataframes = []\n",
    "    for data_file in os.listdir(\"data/\")[0:5]:\n",
    "        data = pd.read_csv(\"data/\" + data_file)\n",
    "        dataframes.append(data)\n",
    "    dataframe = pd.concat(dataframes)\n",
    "    dataframe.apply(lambda k: _process_row(k), axis=1)\n",
    "    return dataframe"
   ]
  },
  {
   "cell_type": "code",
   "execution_count": 6,
   "metadata": {},
   "outputs": [],
   "source": [
    "def get_percent_by_women(dataframe, filter):\n",
    "    total = 0.\n",
    "    matched = 0.\n",
    "    for index, row in dataframe.iterrows():\n",
    "        if filter(row):\n",
    "            total += 1\n",
    "            if row[\"gender\"] == \"F\":\n",
    "                matched += 1\n",
    "    return matched / total"
   ]
  },
  {
   "cell_type": "code",
   "execution_count": 13,
   "metadata": {},
   "outputs": [],
   "source": [
    "def _get_unique_categories(dataframe):\n",
    "    \"\"\"Utility method to get the unique categories in the dataframe, unpacked\n",
    "    and standardized.\n",
    "\n",
    "    Arguments:\n",
    "        dataframe {dataframe} -- the dataframe which contains the NYT data\n",
    "\n",
    "    Returns:\n",
    "        [String] -- array of the unique categories\n",
    "    \"\"\"\n",
    "\n",
    "    categories = set()\n",
    "    for reported_category in dataframe.section_name.unique():\n",
    "        for found_category in _unpack_categories(str(reported_category)):\n",
    "            categories.add(found_category)\n",
    "    return categories"
   ]
  },
  {
   "cell_type": "code",
   "execution_count": 8,
   "metadata": {},
   "outputs": [],
   "source": [
    "data = load_all_data()\n",
    "# this will also dedup categories"
   ]
  },
  {
   "cell_type": "code",
   "execution_count": 15,
   "metadata": {},
   "outputs": [
    {
     "data": {
      "text/plain": [
       "0.22033898305084745"
      ]
     },
     "execution_count": 15,
     "metadata": {},
     "output_type": "execute_result"
    }
   ],
   "source": [
    "# Example: how to get example articles for any given month\n",
    "get_percent_by_women(data, lambda k: k['pub_date'].month == 6 and k['pub_date'].year == 2013 and 'Sports' in k['section_name'])"
   ]
  }
 ],
 "metadata": {
  "kernelspec": {
   "display_name": "Python 3",
   "language": "python",
   "name": "python3"
  },
  "language_info": {
   "codemirror_mode": {
    "name": "ipython",
    "version": 3
   },
   "file_extension": ".py",
   "mimetype": "text/x-python",
   "name": "python",
   "nbconvert_exporter": "python",
   "pygments_lexer": "ipython3",
   "version": "3.6.5"
  }
 },
 "nbformat": 4,
 "nbformat_minor": 2
}
